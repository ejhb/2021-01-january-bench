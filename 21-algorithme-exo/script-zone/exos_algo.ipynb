{
 "metadata": {
  "language_info": {
   "codemirror_mode": {
    "name": "ipython",
    "version": 3
   },
   "file_extension": ".py",
   "mimetype": "text/x-python",
   "name": "python",
   "nbconvert_exporter": "python",
   "pygments_lexer": "ipython3",
   "version": "3.8.5-final"
  },
  "orig_nbformat": 2,
  "kernelspec": {
   "name": "python3",
   "display_name": "Python 3",
   "language": "python"
  }
 },
 "nbformat": 4,
 "nbformat_minor": 2,
 "cells": [
  {
   "source": [
    "## 1.1  Géométrie\n",
    "### 1.  Calculer le diamètre, le périmètre et la surface d’un cercle à partir de son rayon :"
   ],
   "cell_type": "markdown",
   "metadata": {}
  },
  {
   "cell_type": "code",
   "execution_count": 6,
   "metadata": {},
   "outputs": [
    {
     "output_type": "stream",
     "name": "stdout",
     "text": [
      "Only number is allowed in this area. Try again...\n"
     ]
    }
   ],
   "source": [
    "def circle():\n",
    "    pi = 3.1416 \n",
    "    try :\n",
    "       ray = float(input(\"Please enter circle ray :\"))\n",
    "       area = pi * (ray * ray)\n",
    "       diameter = ray * 2\n",
    "       circumference = 2 * pi * ray\n",
    "    except ValueError :\n",
    "        print('Only number is allowed in this area. Try again...')\n",
    "    if ray <= 0 \n",
    "        print('Ray must be positive.')\n",
    "    else :\n",
    "        print('For a ray of :',ray,'diameter is :',diameter,'area is :',area,'circumference is :',circumference) \n",
    "\n",
    "circle()"
   ]
  },
  {
   "source": [
    "### 2. Calculer les coefficients d’une droite à partir de deux points :"
   ],
   "cell_type": "markdown",
   "metadata": {}
  },
  {
   "cell_type": "code",
   "execution_count": 1,
   "metadata": {},
   "outputs": [],
   "source": [
    "  def coef_droite(self,p1= (0,0), p2= (1,1)):\n",
    "        a= b= ''\n",
    "\n",
    "        if p1== p2:\n",
    "            print(\"Les points doivent être distinc\")\n",
    "        else:\n",
    "            try:\n",
    "                #print(\"rayon avant\", rayon)\n",
    "                x1, y1= float(p1[0]), float(p1[1])\n",
    "                x2, y2= float(p2[0]), float(p2[1])\n",
    "\n",
    "                if x1== x2:\n",
    "                    print(\"Doite verticale (d'équation x= cte): la pente est infinie et b non définie.\")\n",
    "                    a= inf\n",
    "                    b= ''\n",
    "                else:\n",
    "                    a= (y1 - y2)/(x1 - x2)\n",
    "                    b= y1 - a * x1\n",
    "\n",
    "            except TypeError:\n",
    "                print(\"Erreur de typage!\")\n",
    "            except ValueError:\n",
    "                print(\"Erreur de valeur!\")\n",
    "\n",
    "        return a,b\n",
    "        "
   ]
  },
  {
   "source": [
    "## 1.2  Conditions et calcul\n",
    "\n",
    "### 1. Calculer le plus petit parmi trois nombres :"
   ],
   "cell_type": "markdown",
   "metadata": {}
  },
  {
   "cell_type": "code",
   "execution_count": 29,
   "metadata": {},
   "outputs": [
    {
     "output_type": "stream",
     "name": "stdout",
     "text": [
      "Index : 5 Value: 1\n"
     ]
    }
   ],
   "source": [
    "import numpy as np \n",
    "\n",
    "def plus_petit(*arg):\n",
    "    print(\"Index :\",np.argmin([*arg]),\"Value:\",min([*arg]))\n",
    "plus_petit(3,4,5,8,8,1,2,3,4,5,6,4,2,1)"
   ]
  },
  {
   "source": [
    "### 2.  Calculer si elles existent les racines d’une équation du second degré :"
   ],
   "cell_type": "markdown",
   "metadata": {}
  },
  {
   "cell_type": "code",
   "execution_count": 18,
   "metadata": {},
   "outputs": [
    {
     "output_type": "stream",
     "name": "stdout",
     "text": [
      "You must enter different value for each points. Try again...\n"
     ]
    }
   ],
   "source": [
    "def racines_2nd_degre(a: float, b: float, c: float)\n"
   ]
  },
  {
   "source": [
    "## 1.3 Durées et dates\n",
    "\n",
    "### 1. Convertir une durée en secondes :"
   ],
   "cell_type": "markdown",
   "metadata": {}
  },
  {
   "cell_type": "code",
   "execution_count": 40,
   "metadata": {},
   "outputs": [
    {
     "output_type": "stream",
     "name": "stdout",
     "text": [
      "secondes: 1908122\n"
     ]
    }
   ],
   "source": [
    "def duree_en_secondes():\n",
    "    j = int(input('Nombre de jour'))\n",
    "    h = int(input('Nombre d\\'heures'))\n",
    "    m = int(input('Nombre de minutes'))\n",
    "    s = int(input('Nombres de secondes'))\n",
    "    if ((j > 0) and (0 <= h <24) and (0 <= m <60) and (0 <= s <60)):\n",
    "        h = h + (j * 24)\n",
    "        m = m + (h * 60)\n",
    "        print('secondes:', s + (m * 60)) \n",
    "    else : \n",
    "        print(\"gfys\")\n",
    "duree_en_secondes()"
   ]
  },
  {
   "source": [
    "### 2.  Convertir un nombre de secondes en durée :\n"
   ],
   "cell_type": "markdown",
   "metadata": {}
  },
  {
   "cell_type": "code",
   "execution_count": 41,
   "metadata": {},
   "outputs": [
    {
     "output_type": "execute_result",
     "data": {
      "text/plain": [
       "'963868911 days, 20 hours, 30 minutes, 36 seconds, '"
      ]
     },
     "metadata": {},
     "execution_count": 41
    }
   ],
   "source": [
    "def secondsToText(secs):\n",
    "    days = secs//86400\n",
    "    hours = (secs - days*86400)//3600\n",
    "    minutes = (secs - days*86400 - hours*3600)//60\n",
    "    seconds = secs - days*86400 - hours*3600 - minutes*60\n",
    "    result = (\"{} days, \".format(days) if days else \"\") + \\\n",
    "    (\"{} hours, \".format(hours) if hours else \"\") + \\\n",
    "    (\"{} minutes, \".format(minutes) if minutes else \"\") + \\\n",
    "    (\"{} seconds, \".format(seconds) if seconds else \"\")\n",
    "    return result\n",
    "\n",
    "secondsToText(83278273984236)"
   ]
  },
  {
   "source": [
    "### 3.⋆Déterminer l’ordre entre deux heures de la journée :"
   ],
   "cell_type": "markdown",
   "metadata": {}
  },
  {
   "cell_type": "code",
   "execution_count": null,
   "metadata": {},
   "outputs": [],
   "source": [
    "def ordre_heures(h1: int, m1: int, s1: int, h2: int, m2: int, s2: int) -> int:\n",
    "\n",
    "\"\"\":entrée h1: int:entrée m1: int:entrée s1: int:entrée h2: int:entrée m2: int:entrée s2: int:pré-cond: 0≤h1 < 24 , 0≤m1 < 60 , 0≤s1 < 60 ,0≤h2 < 24 , 0≤m2 < 60 , 0≤s2 < 60:sortie o: int:post-cond: o est un entier positif si h1:m1:s1 est après h2:m2:s2 ,un entier négatif si h1:m1:s2 est avant h2:m2:s2 ,0 si les deux heures sont identiques .\"\"\""
   ]
  },
  {
   "source": [
    "### 4.⋆Calculer la différence entre deux heures de la journée :"
   ],
   "cell_type": "markdown",
   "metadata": {}
  },
  {
   "cell_type": "code",
   "execution_count": null,
   "metadata": {},
   "outputs": [],
   "source": [
    "def difference_heures(h1: int, m1: int, s1: int, h2: int, m2: int, s2: int) ->˓→int:\n",
    "\n",
    "\"\"\":entrée h1: int:entrée m1: int:entrée s1: int:entrée h2: int:entrée m2: int:entrée s2: int:pré-cond: 0≤h1 < 24 , 0≤m1 < 60 , 0≤s1 < 60 ,0≤h2 < 24 , 0≤m2 < 60 , 0≤s2 < 60 ,ordre_heures(h1, m1, s1, h2, m2, s2)≥0:sortie d: int:post-cond: d est le nombre de secondes entre h2:m2:s2 et h1:m1:s1 .\"\"\""
   ]
  },
  {
   "source": [
    "### 5.⋆Calculer une heure de la journée relativement à une autre :"
   ],
   "cell_type": "markdown",
   "metadata": {}
  },
  {
   "cell_type": "code",
   "execution_count": null,
   "metadata": {},
   "outputs": [],
   "source": [
    "def decale_heure(h: int, m: int, s: int, d: int) -> (int, int, int):\n",
    "    \n",
    "    \"\"\":entrée h: int:entrée m: int:entrée s: int:entrée d: int:pré-cond: 0≤h < 24 , 0≤m < 60 , 0≤s < 60 , 0≤d < 24*3600:sortie h2: int:sortie m2: int:sortie s2: int\"\"\""
   ]
  },
  {
   "source": [
    "### 6.  Déterminer si une année est bissextile :"
   ],
   "cell_type": "markdown",
   "metadata": {}
  },
  {
   "cell_type": "code",
   "execution_count": 69,
   "metadata": {},
   "outputs": [],
   "source": [
    "def annee_bissextile(a: int) :\n",
    "    if a > 0:\n",
    "        if a%400 == 0 : \n",
    "            b = True\n",
    "        elif a%100 == 0 :\n",
    "            b = False\n",
    "        elif a%4 == 0 :\n",
    "            b = True\n",
    "            return b \n",
    "        else :\n",
    "            b = False\n",
    "            return b \n",
    "    else : b = None\n",
    "    return b"
   ]
  },
  {
   "source": [
    "### 7.  Déterminer le nombre de jours d’une année donnée :"
   ],
   "cell_type": "markdown",
   "metadata": {}
  },
  {
   "cell_type": "code",
   "execution_count": 70,
   "metadata": {},
   "outputs": [],
   "source": [
    "def jours_par_annee(a: int):\n",
    "    annee_bissextile(a)\n",
    "    if b == True : \n",
    "        j = 366\n",
    "    else : \n",
    "        j = 365\n",
    "    print('Year',a,'is there is :',j,'days.') "
   ]
  },
  {
   "cell_type": "code",
   "execution_count": 71,
   "metadata": {},
   "outputs": [
    {
     "output_type": "error",
     "ename": "NameError",
     "evalue": "name 'b' is not defined",
     "traceback": [
      "\u001b[0;31m---------------------------------------------------------------------------\u001b[0m",
      "\u001b[0;31mNameError\u001b[0m                                 Traceback (most recent call last)",
      "\u001b[0;32m<ipython-input-71-8a7d8b516bbf>\u001b[0m in \u001b[0;36m<module>\u001b[0;34m\u001b[0m\n\u001b[0;32m----> 1\u001b[0;31m \u001b[0mjours_par_annee\u001b[0m\u001b[0;34m(\u001b[0m\u001b[0;36m2006\u001b[0m\u001b[0;34m)\u001b[0m\u001b[0;34m\u001b[0m\u001b[0;34m\u001b[0m\u001b[0m\n\u001b[0m",
      "\u001b[0;32m<ipython-input-70-4eaaa72f632a>\u001b[0m in \u001b[0;36mjours_par_annee\u001b[0;34m(a)\u001b[0m\n\u001b[1;32m      1\u001b[0m \u001b[0;32mdef\u001b[0m \u001b[0mjours_par_annee\u001b[0m\u001b[0;34m(\u001b[0m\u001b[0ma\u001b[0m\u001b[0;34m:\u001b[0m \u001b[0mint\u001b[0m\u001b[0;34m)\u001b[0m\u001b[0;34m:\u001b[0m\u001b[0;34m\u001b[0m\u001b[0;34m\u001b[0m\u001b[0m\n\u001b[1;32m      2\u001b[0m     \u001b[0mannee_bissextile\u001b[0m\u001b[0;34m(\u001b[0m\u001b[0ma\u001b[0m\u001b[0;34m)\u001b[0m\u001b[0;34m\u001b[0m\u001b[0;34m\u001b[0m\u001b[0m\n\u001b[0;32m----> 3\u001b[0;31m     \u001b[0;32mif\u001b[0m \u001b[0mb\u001b[0m \u001b[0;34m==\u001b[0m \u001b[0;32mTrue\u001b[0m \u001b[0;34m:\u001b[0m\u001b[0;34m\u001b[0m\u001b[0;34m\u001b[0m\u001b[0m\n\u001b[0m\u001b[1;32m      4\u001b[0m         \u001b[0mj\u001b[0m \u001b[0;34m=\u001b[0m \u001b[0;36m366\u001b[0m\u001b[0;34m\u001b[0m\u001b[0;34m\u001b[0m\u001b[0m\n\u001b[1;32m      5\u001b[0m     \u001b[0;32melse\u001b[0m \u001b[0;34m:\u001b[0m\u001b[0;34m\u001b[0m\u001b[0;34m\u001b[0m\u001b[0m\n",
      "\u001b[0;31mNameError\u001b[0m: name 'b' is not defined"
     ]
    }
   ],
   "source": [
    "jours_par_annee(2006)"
   ]
  }
 ]
}