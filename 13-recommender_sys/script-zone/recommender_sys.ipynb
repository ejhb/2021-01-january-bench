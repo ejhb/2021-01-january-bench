{
 "metadata": {
  "language_info": {
   "codemirror_mode": {
    "name": "ipython",
    "version": 3
   },
   "file_extension": ".py",
   "mimetype": "text/x-python",
   "name": "python",
   "nbconvert_exporter": "python",
   "pygments_lexer": "ipython3",
   "version": "3.8.5-final"
  },
  "orig_nbformat": 2,
  "kernelspec": {
   "name": "python3",
   "display_name": "Python 3",
   "language": "python"
  }
 },
 "nbformat": 4,
 "nbformat_minor": 2,
 "cells": [
  {
   "cell_type": "code",
   "execution_count": 6,
   "metadata": {},
   "outputs": [],
   "source": [
    "## dieu\n",
    "import pandas as pd \n",
    "import numpy as np \n",
    "# sklearn\n",
    "from sklearn.feature_extraction.text import TfidfVectorizer\n",
    "from sklearn.metrics.pairwise import linear_kernel\n"
   ]
  },
  {
   "cell_type": "code",
   "execution_count": 51,
   "metadata": {},
   "outputs": [],
   "source": []
  },
  {
   "cell_type": "code",
   "execution_count": 7,
   "metadata": {},
   "outputs": [],
   "source": [
    "metadata = pd.read_csv('../data/movies_metadata.csv')"
   ]
  },
  {
   "cell_type": "code",
   "execution_count": 8,
   "metadata": {},
   "outputs": [],
   "source": [
    "m = metadata['vote_count'].quantile(0.90)\n",
    "C = metadata['vote_average'].mean()\n",
    "\n",
    "q_movies = metadata.copy().loc[metadata['vote_count'] >= m]\n",
    "q_movies.shape\n",
    "\n",
    "def weighted_rating(x, m=m, C=C):\n",
    "    v = x['vote_count']\n",
    "    R = x['vote_average']\n",
    "    # Calculation based on the IMDB formula\n",
    "    return (v/(v+m) * R) + (m/(m+v) * C)"
   ]
  },
  {
   "cell_type": "code",
   "execution_count": 9,
   "metadata": {},
   "outputs": [
    {
     "output_type": "execute_result",
     "data": {
      "text/plain": [
       "                                 title  vote_count  vote_average     score\n",
       "314           The Shawshank Redemption      8358.0           8.5  8.445869\n",
       "834                      The Godfather      6024.0           8.5  8.425439\n",
       "10309      Dilwale Dulhania Le Jayenge       661.0           9.1  8.421453\n",
       "12481                  The Dark Knight     12269.0           8.3  8.265477\n",
       "2843                        Fight Club      9678.0           8.3  8.256385\n",
       "292                       Pulp Fiction      8670.0           8.3  8.251406\n",
       "522                   Schindler's List      4436.0           8.3  8.206639\n",
       "23673                         Whiplash      4376.0           8.3  8.205404\n",
       "5481                     Spirited Away      3968.0           8.3  8.196055\n",
       "2211                 Life Is Beautiful      3643.0           8.3  8.187171\n",
       "1178            The Godfather: Part II      3418.0           8.3  8.180076\n",
       "1152   One Flew Over the Cuckoo's Nest      3001.0           8.3  8.164256\n",
       "351                       Forrest Gump      8147.0           8.2  8.150272\n",
       "1154           The Empire Strikes Back      5998.0           8.2  8.132919\n",
       "1176                            Psycho      2405.0           8.3  8.132715\n",
       "18465                 The Intouchables      5410.0           8.2  8.125837\n",
       "40251                       Your Name.      1030.0           8.5  8.112532\n",
       "289             Leon: The Professional      4293.0           8.2  8.107234\n",
       "3030                    The Green Mile      4166.0           8.2  8.104511\n",
       "1170                        GoodFellas      3211.0           8.2  8.077459"
      ],
      "text/html": "<div>\n<style scoped>\n    .dataframe tbody tr th:only-of-type {\n        vertical-align: middle;\n    }\n\n    .dataframe tbody tr th {\n        vertical-align: top;\n    }\n\n    .dataframe thead th {\n        text-align: right;\n    }\n</style>\n<table border=\"1\" class=\"dataframe\">\n  <thead>\n    <tr style=\"text-align: right;\">\n      <th></th>\n      <th>title</th>\n      <th>vote_count</th>\n      <th>vote_average</th>\n      <th>score</th>\n    </tr>\n  </thead>\n  <tbody>\n    <tr>\n      <th>314</th>\n      <td>The Shawshank Redemption</td>\n      <td>8358.0</td>\n      <td>8.5</td>\n      <td>8.445869</td>\n    </tr>\n    <tr>\n      <th>834</th>\n      <td>The Godfather</td>\n      <td>6024.0</td>\n      <td>8.5</td>\n      <td>8.425439</td>\n    </tr>\n    <tr>\n      <th>10309</th>\n      <td>Dilwale Dulhania Le Jayenge</td>\n      <td>661.0</td>\n      <td>9.1</td>\n      <td>8.421453</td>\n    </tr>\n    <tr>\n      <th>12481</th>\n      <td>The Dark Knight</td>\n      <td>12269.0</td>\n      <td>8.3</td>\n      <td>8.265477</td>\n    </tr>\n    <tr>\n      <th>2843</th>\n      <td>Fight Club</td>\n      <td>9678.0</td>\n      <td>8.3</td>\n      <td>8.256385</td>\n    </tr>\n    <tr>\n      <th>292</th>\n      <td>Pulp Fiction</td>\n      <td>8670.0</td>\n      <td>8.3</td>\n      <td>8.251406</td>\n    </tr>\n    <tr>\n      <th>522</th>\n      <td>Schindler's List</td>\n      <td>4436.0</td>\n      <td>8.3</td>\n      <td>8.206639</td>\n    </tr>\n    <tr>\n      <th>23673</th>\n      <td>Whiplash</td>\n      <td>4376.0</td>\n      <td>8.3</td>\n      <td>8.205404</td>\n    </tr>\n    <tr>\n      <th>5481</th>\n      <td>Spirited Away</td>\n      <td>3968.0</td>\n      <td>8.3</td>\n      <td>8.196055</td>\n    </tr>\n    <tr>\n      <th>2211</th>\n      <td>Life Is Beautiful</td>\n      <td>3643.0</td>\n      <td>8.3</td>\n      <td>8.187171</td>\n    </tr>\n    <tr>\n      <th>1178</th>\n      <td>The Godfather: Part II</td>\n      <td>3418.0</td>\n      <td>8.3</td>\n      <td>8.180076</td>\n    </tr>\n    <tr>\n      <th>1152</th>\n      <td>One Flew Over the Cuckoo's Nest</td>\n      <td>3001.0</td>\n      <td>8.3</td>\n      <td>8.164256</td>\n    </tr>\n    <tr>\n      <th>351</th>\n      <td>Forrest Gump</td>\n      <td>8147.0</td>\n      <td>8.2</td>\n      <td>8.150272</td>\n    </tr>\n    <tr>\n      <th>1154</th>\n      <td>The Empire Strikes Back</td>\n      <td>5998.0</td>\n      <td>8.2</td>\n      <td>8.132919</td>\n    </tr>\n    <tr>\n      <th>1176</th>\n      <td>Psycho</td>\n      <td>2405.0</td>\n      <td>8.3</td>\n      <td>8.132715</td>\n    </tr>\n    <tr>\n      <th>18465</th>\n      <td>The Intouchables</td>\n      <td>5410.0</td>\n      <td>8.2</td>\n      <td>8.125837</td>\n    </tr>\n    <tr>\n      <th>40251</th>\n      <td>Your Name.</td>\n      <td>1030.0</td>\n      <td>8.5</td>\n      <td>8.112532</td>\n    </tr>\n    <tr>\n      <th>289</th>\n      <td>Leon: The Professional</td>\n      <td>4293.0</td>\n      <td>8.2</td>\n      <td>8.107234</td>\n    </tr>\n    <tr>\n      <th>3030</th>\n      <td>The Green Mile</td>\n      <td>4166.0</td>\n      <td>8.2</td>\n      <td>8.104511</td>\n    </tr>\n    <tr>\n      <th>1170</th>\n      <td>GoodFellas</td>\n      <td>3211.0</td>\n      <td>8.2</td>\n      <td>8.077459</td>\n    </tr>\n  </tbody>\n</table>\n</div>"
     },
     "metadata": {},
     "execution_count": 9
    }
   ],
   "source": [
    "q_movies['score'] = q_movies.apply(weighted_rating, axis=1)\n",
    "q_movies = q_movies.sort_values('score', ascending=False)\n",
    "q_movies[['title', 'vote_count', 'vote_average', 'score']].head(20)"
   ]
  },
  {
   "cell_type": "code",
   "execution_count": 17,
   "metadata": {},
   "outputs": [
    {
     "output_type": "execute_result",
     "data": {
      "text/plain": [
       "['avails',\n",
       " 'avaks',\n",
       " 'avalanche',\n",
       " 'avalanches',\n",
       " 'avallone',\n",
       " 'avalon',\n",
       " 'avant',\n",
       " 'avanthika',\n",
       " 'avanti',\n",
       " 'avaracious']"
      ]
     },
     "metadata": {},
     "execution_count": 17
    }
   ],
   "source": [
    "tfidf.get_feature_names()[5000:5010]"
   ]
  },
  {
   "cell_type": "code",
   "execution_count": 60,
   "metadata": {},
   "outputs": [
    {
     "output_type": "execute_result",
     "data": {
      "text/plain": [
       "(45466, 75827)"
      ]
     },
     "metadata": {},
     "execution_count": 60
    }
   ],
   "source": [
    "#Define a TF-IDF Vectorizer Object. Remove all english stop words such as 'the', 'a'\n",
    "tfidf = TfidfVectorizer(stop_words='english')\n",
    "\n",
    "#Replace NaN with an empty string\n",
    "metadata['overview'] = metadata['overview'].fillna('')\n",
    "\n",
    "#Construct the required TF-IDF matrix by fitting and transforming the data\n",
    "tfidf_matrix = tfidf.fit_transform(metadata['overview'])\n",
    "\n",
    "#Output the shape of tfidf_matrix\n",
    "tfidf_matrix.shape"
   ]
  },
  {
   "cell_type": "code",
   "execution_count": 93,
   "metadata": {},
   "outputs": [
    {
     "output_type": "stream",
     "name": "stdout",
     "text": [
      "(45466, 1)\n[[0.        ]\n [0.        ]\n [0.        ]\n ...\n [0.04413835]\n [0.01250697]\n [0.        ]]\n"
     ]
    }
   ],
   "source": [
    "cosine_sim = linear_kernel(tfidf_matrix, tfidf_matrix[18000])\n",
    "print(cosine_sim.shape)\n",
    "print(cosine_sim)"
   ]
  },
  {
   "cell_type": "code",
   "execution_count": 94,
   "metadata": {},
   "outputs": [
    {
     "output_type": "execute_result",
     "data": {
      "text/plain": [
       "title\n",
       "Toy Story                          0\n",
       "Jumanji                            1\n",
       "Grumpier Old Men                   2\n",
       "Waiting to Exhale                  3\n",
       "Father of the Bride Part II        4\n",
       "                               ...  \n",
       "Paranormal Activity 3          17996\n",
       "Puncture                       17997\n",
       "Polisse                        17998\n",
       "A Little Bit of Heaven         17999\n",
       "Year of the Carnivore          18000\n",
       "Length: 18001, dtype: int64"
      ]
     },
     "metadata": {},
     "execution_count": 94
    }
   ],
   "source": [
    "indices = pd.Series(metadata.index, index=metadata['title']).drop_duplicates()\n",
    "indices[:18001]"
   ]
  },
  {
   "cell_type": "code",
   "execution_count": 113,
   "metadata": {},
   "outputs": [],
   "source": [
    "def get_recommendations(title):\n",
    "    # Get the index of the movie that matches the title\n",
    "    idx = indices[title]\n",
    "    n_films = int(input())\n",
    "    \n",
    "    cosine_sim = linear_kernel(tfidf_matrix, tfidf_matrix[idx])\n",
    "    # Get the pairwsie similarity scores of all movies with that movie\n",
    "    sim_scores = list(enumerate(cosine_sim))\n",
    "    \n",
    "    # Sort the movies based on the similarity scores\n",
    "    sim_scores = sorted(sim_scores, key=lambda x: x[1], reverse=True)\n",
    "    \n",
    "    # Get the scores of the 10 most similar movies\n",
    "    sim_scores = sim_scores[1:n_films + 1]\n",
    "    \n",
    "    # Get the movie indices\n",
    "    movie_indices = [i[0] for i in sim_scores]\n",
    "    \n",
    "    # Return the top 10 most similar movies\n",
    "    return metadata['title'].iloc[movie_indices]"
   ]
  },
  {
   "cell_type": "code",
   "execution_count": 114,
   "metadata": {
    "tags": []
   },
   "outputs": [
    {
     "output_type": "execute_result",
     "data": {
      "text/plain": [
       "27633                              The Skateboard Kid II\n",
       "7611                            Sammy and Rosie Get Laid\n",
       "34646                                 I Was a Shoplifter\n",
       "26209                      Long Day's Journey Into Night\n",
       "32763                                       The Comedian\n",
       "22506    A Turtle’s Tale 2: Sammy’s Escape From Paradise\n",
       "43579                                         Tomato Red\n",
       "43675               Surviving Life (Theory and Practice)\n",
       "33573                    Sleepaway Camp IV: The Survivor\n",
       "16075                A Turtle's Tale: Sammy's Adventures\n",
       "8914                                 Dominick and Eugene\n",
       "Name: title, dtype: object"
      ]
     },
     "metadata": {},
     "execution_count": 114
    }
   ],
   "source": [
    "get_recommendations('Year of the Carnivore')"
   ]
  },
  {
   "cell_type": "code",
   "execution_count": null,
   "metadata": {},
   "outputs": [],
   "source": []
  }
 ]
}